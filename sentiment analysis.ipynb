{
 "cells": [
  {
   "cell_type": "markdown",
   "id": "7b9424db",
   "metadata": {},
   "source": [
    "# TASK 2 \n",
    "\n",
    "#  Sentiment Analysis"
   ]
  },
  {
   "cell_type": "code",
   "execution_count": 1,
   "id": "2c4392c2",
   "metadata": {},
   "outputs": [],
   "source": [
    "#imporint the basic libraries\n",
    "from mpl_toolkits.mplot3d import Axes3D\n",
    "from sklearn.preprocessing import StandardScaler\n",
    "import matplotlib.pyplot as plt # plotting\n",
    "import numpy as np # linear algebra\n",
    "import os # accessing directory structure\n",
    "import pandas as pd\n",
    "import seaborn as sns\n",
    "from sklearn.feature_extraction.text import TfidfVectorizer\n",
    "\n"
   ]
  },
  {
   "cell_type": "code",
   "execution_count": 2,
   "id": "6aa997b1",
   "metadata": {},
   "outputs": [],
   "source": [
    "# reading the csv file \n",
    "data=pd.read_csv(\"Tweets.csv\")"
   ]
  },
  {
   "cell_type": "code",
   "execution_count": 3,
   "id": "562f78fd",
   "metadata": {},
   "outputs": [
    {
     "data": {
      "text/plain": [
       "(14640, 15)"
      ]
     },
     "execution_count": 3,
     "metadata": {},
     "output_type": "execute_result"
    }
   ],
   "source": [
    "data.shape"
   ]
  },
  {
   "cell_type": "code",
   "execution_count": 4,
   "id": "1081e007",
   "metadata": {},
   "outputs": [
    {
     "data": {
      "text/html": [
       "<div>\n",
       "<style scoped>\n",
       "    .dataframe tbody tr th:only-of-type {\n",
       "        vertical-align: middle;\n",
       "    }\n",
       "\n",
       "    .dataframe tbody tr th {\n",
       "        vertical-align: top;\n",
       "    }\n",
       "\n",
       "    .dataframe thead th {\n",
       "        text-align: right;\n",
       "    }\n",
       "</style>\n",
       "<table border=\"1\" class=\"dataframe\">\n",
       "  <thead>\n",
       "    <tr style=\"text-align: right;\">\n",
       "      <th></th>\n",
       "      <th>tweet_id</th>\n",
       "      <th>airline_sentiment</th>\n",
       "      <th>airline_sentiment_confidence</th>\n",
       "      <th>negativereason</th>\n",
       "      <th>negativereason_confidence</th>\n",
       "      <th>airline</th>\n",
       "      <th>airline_sentiment_gold</th>\n",
       "      <th>name</th>\n",
       "      <th>negativereason_gold</th>\n",
       "      <th>retweet_count</th>\n",
       "      <th>text</th>\n",
       "      <th>tweet_coord</th>\n",
       "      <th>tweet_created</th>\n",
       "      <th>tweet_location</th>\n",
       "      <th>user_timezone</th>\n",
       "    </tr>\n",
       "  </thead>\n",
       "  <tbody>\n",
       "    <tr>\n",
       "      <th>0</th>\n",
       "      <td>570306133677760513</td>\n",
       "      <td>neutral</td>\n",
       "      <td>1.0000</td>\n",
       "      <td>NaN</td>\n",
       "      <td>NaN</td>\n",
       "      <td>Virgin America</td>\n",
       "      <td>NaN</td>\n",
       "      <td>cairdin</td>\n",
       "      <td>NaN</td>\n",
       "      <td>0</td>\n",
       "      <td>@VirginAmerica What @dhepburn said.</td>\n",
       "      <td>NaN</td>\n",
       "      <td>2015-02-24 11:35:52 -0800</td>\n",
       "      <td>NaN</td>\n",
       "      <td>Eastern Time (US &amp; Canada)</td>\n",
       "    </tr>\n",
       "    <tr>\n",
       "      <th>1</th>\n",
       "      <td>570301130888122368</td>\n",
       "      <td>positive</td>\n",
       "      <td>0.3486</td>\n",
       "      <td>NaN</td>\n",
       "      <td>0.0000</td>\n",
       "      <td>Virgin America</td>\n",
       "      <td>NaN</td>\n",
       "      <td>jnardino</td>\n",
       "      <td>NaN</td>\n",
       "      <td>0</td>\n",
       "      <td>@VirginAmerica plus you've added commercials t...</td>\n",
       "      <td>NaN</td>\n",
       "      <td>2015-02-24 11:15:59 -0800</td>\n",
       "      <td>NaN</td>\n",
       "      <td>Pacific Time (US &amp; Canada)</td>\n",
       "    </tr>\n",
       "    <tr>\n",
       "      <th>2</th>\n",
       "      <td>570301083672813571</td>\n",
       "      <td>neutral</td>\n",
       "      <td>0.6837</td>\n",
       "      <td>NaN</td>\n",
       "      <td>NaN</td>\n",
       "      <td>Virgin America</td>\n",
       "      <td>NaN</td>\n",
       "      <td>yvonnalynn</td>\n",
       "      <td>NaN</td>\n",
       "      <td>0</td>\n",
       "      <td>@VirginAmerica I didn't today... Must mean I n...</td>\n",
       "      <td>NaN</td>\n",
       "      <td>2015-02-24 11:15:48 -0800</td>\n",
       "      <td>Lets Play</td>\n",
       "      <td>Central Time (US &amp; Canada)</td>\n",
       "    </tr>\n",
       "    <tr>\n",
       "      <th>3</th>\n",
       "      <td>570301031407624196</td>\n",
       "      <td>negative</td>\n",
       "      <td>1.0000</td>\n",
       "      <td>Bad Flight</td>\n",
       "      <td>0.7033</td>\n",
       "      <td>Virgin America</td>\n",
       "      <td>NaN</td>\n",
       "      <td>jnardino</td>\n",
       "      <td>NaN</td>\n",
       "      <td>0</td>\n",
       "      <td>@VirginAmerica it's really aggressive to blast...</td>\n",
       "      <td>NaN</td>\n",
       "      <td>2015-02-24 11:15:36 -0800</td>\n",
       "      <td>NaN</td>\n",
       "      <td>Pacific Time (US &amp; Canada)</td>\n",
       "    </tr>\n",
       "    <tr>\n",
       "      <th>4</th>\n",
       "      <td>570300817074462722</td>\n",
       "      <td>negative</td>\n",
       "      <td>1.0000</td>\n",
       "      <td>Can't Tell</td>\n",
       "      <td>1.0000</td>\n",
       "      <td>Virgin America</td>\n",
       "      <td>NaN</td>\n",
       "      <td>jnardino</td>\n",
       "      <td>NaN</td>\n",
       "      <td>0</td>\n",
       "      <td>@VirginAmerica and it's a really big bad thing...</td>\n",
       "      <td>NaN</td>\n",
       "      <td>2015-02-24 11:14:45 -0800</td>\n",
       "      <td>NaN</td>\n",
       "      <td>Pacific Time (US &amp; Canada)</td>\n",
       "    </tr>\n",
       "  </tbody>\n",
       "</table>\n",
       "</div>"
      ],
      "text/plain": [
       "             tweet_id airline_sentiment  airline_sentiment_confidence  \\\n",
       "0  570306133677760513           neutral                        1.0000   \n",
       "1  570301130888122368          positive                        0.3486   \n",
       "2  570301083672813571           neutral                        0.6837   \n",
       "3  570301031407624196          negative                        1.0000   \n",
       "4  570300817074462722          negative                        1.0000   \n",
       "\n",
       "  negativereason  negativereason_confidence         airline  \\\n",
       "0            NaN                        NaN  Virgin America   \n",
       "1            NaN                     0.0000  Virgin America   \n",
       "2            NaN                        NaN  Virgin America   \n",
       "3     Bad Flight                     0.7033  Virgin America   \n",
       "4     Can't Tell                     1.0000  Virgin America   \n",
       "\n",
       "  airline_sentiment_gold        name negativereason_gold  retweet_count  \\\n",
       "0                    NaN     cairdin                 NaN              0   \n",
       "1                    NaN    jnardino                 NaN              0   \n",
       "2                    NaN  yvonnalynn                 NaN              0   \n",
       "3                    NaN    jnardino                 NaN              0   \n",
       "4                    NaN    jnardino                 NaN              0   \n",
       "\n",
       "                                                text tweet_coord  \\\n",
       "0                @VirginAmerica What @dhepburn said.         NaN   \n",
       "1  @VirginAmerica plus you've added commercials t...         NaN   \n",
       "2  @VirginAmerica I didn't today... Must mean I n...         NaN   \n",
       "3  @VirginAmerica it's really aggressive to blast...         NaN   \n",
       "4  @VirginAmerica and it's a really big bad thing...         NaN   \n",
       "\n",
       "               tweet_created tweet_location               user_timezone  \n",
       "0  2015-02-24 11:35:52 -0800            NaN  Eastern Time (US & Canada)  \n",
       "1  2015-02-24 11:15:59 -0800            NaN  Pacific Time (US & Canada)  \n",
       "2  2015-02-24 11:15:48 -0800      Lets Play  Central Time (US & Canada)  \n",
       "3  2015-02-24 11:15:36 -0800            NaN  Pacific Time (US & Canada)  \n",
       "4  2015-02-24 11:14:45 -0800            NaN  Pacific Time (US & Canada)  "
      ]
     },
     "execution_count": 4,
     "metadata": {},
     "output_type": "execute_result"
    }
   ],
   "source": [
    "data.head()"
   ]
  },
  {
   "cell_type": "code",
   "execution_count": 5,
   "id": "ce572b10",
   "metadata": {},
   "outputs": [
    {
     "data": {
      "text/plain": [
       "tweet_id                            0\n",
       "airline_sentiment                   0\n",
       "airline_sentiment_confidence        0\n",
       "negativereason                   5462\n",
       "negativereason_confidence        4118\n",
       "airline                             0\n",
       "airline_sentiment_gold          14600\n",
       "name                                0\n",
       "negativereason_gold             14608\n",
       "retweet_count                       0\n",
       "text                                0\n",
       "tweet_coord                     13621\n",
       "tweet_created                       0\n",
       "tweet_location                   4733\n",
       "user_timezone                    4820\n",
       "dtype: int64"
      ]
     },
     "execution_count": 5,
     "metadata": {},
     "output_type": "execute_result"
    }
   ],
   "source": [
    "data.isna().sum()"
   ]
  },
  {
   "cell_type": "code",
   "execution_count": 6,
   "id": "d48d1063",
   "metadata": {},
   "outputs": [
    {
     "data": {
      "text/plain": [
       "Customer Service Issue                      12\n",
       "Late Flight                                  4\n",
       "Can't Tell                                   3\n",
       "Cancelled Flight                             3\n",
       "Cancelled Flight\\nCustomer Service Issue     2\n",
       "Late Flight\\nFlight Attendant Complaints     1\n",
       "Late Flight\\nLost Luggage                    1\n",
       "Bad Flight                                   1\n",
       "Lost Luggage\\nDamaged Luggage                1\n",
       "Late Flight\\nCancelled Flight                1\n",
       "Flight Attendant Complaints                  1\n",
       "Customer Service Issue\\nLost Luggage         1\n",
       "Customer Service Issue\\nCan't Tell           1\n",
       "Name: negativereason_gold, dtype: int64"
      ]
     },
     "execution_count": 6,
     "metadata": {},
     "output_type": "execute_result"
    }
   ],
   "source": [
    "data['negativereason_gold'].value_counts()"
   ]
  },
  {
   "cell_type": "code",
   "execution_count": 7,
   "id": "5766f1ca",
   "metadata": {},
   "outputs": [
    {
     "data": {
      "text/plain": [
       "negative    32\n",
       "positive     5\n",
       "neutral      3\n",
       "Name: airline_sentiment_gold, dtype: int64"
      ]
     },
     "execution_count": 7,
     "metadata": {},
     "output_type": "execute_result"
    }
   ],
   "source": [
    "data['airline_sentiment_gold'].value_counts()"
   ]
  },
  {
   "cell_type": "code",
   "execution_count": 8,
   "id": "653f2be1",
   "metadata": {},
   "outputs": [
    {
     "data": {
      "text/plain": [
       "0     13873\n",
       "1       640\n",
       "2        66\n",
       "3        22\n",
       "4        17\n",
       "5         5\n",
       "7         3\n",
       "6         3\n",
       "22        2\n",
       "8         1\n",
       "32        1\n",
       "28        1\n",
       "9         1\n",
       "18        1\n",
       "11        1\n",
       "31        1\n",
       "15        1\n",
       "44        1\n",
       "Name: retweet_count, dtype: int64"
      ]
     },
     "execution_count": 8,
     "metadata": {},
     "output_type": "execute_result"
    }
   ],
   "source": [
    "data['retweet_count'].value_counts()"
   ]
  },
  {
   "cell_type": "code",
   "execution_count": 9,
   "id": "a6126709",
   "metadata": {},
   "outputs": [],
   "source": [
    "#droping the columns for cleaing the data and for reduce the null values\n",
    "data.drop(\"negativereason_gold\",axis=1,inplace=True)\n",
    "data.drop(\"airline_sentiment_gold\",axis=1,inplace=True)"
   ]
  },
  {
   "cell_type": "code",
   "execution_count": 10,
   "id": "7ba63bd8",
   "metadata": {},
   "outputs": [],
   "source": [
    "data.drop(\"retweet_count\",axis=1,inplace=True)"
   ]
  },
  {
   "cell_type": "code",
   "execution_count": 11,
   "id": "44a6738f",
   "metadata": {},
   "outputs": [],
   "source": [
    "data.drop(\"tweet_coord\",axis=1,inplace=True)"
   ]
  },
  {
   "cell_type": "code",
   "execution_count": 12,
   "id": "c38226d7",
   "metadata": {},
   "outputs": [],
   "source": [
    "data.drop(\"tweet_location\",axis=1,inplace=True)"
   ]
  },
  {
   "cell_type": "code",
   "execution_count": 13,
   "id": "0293725c",
   "metadata": {},
   "outputs": [],
   "source": [
    "data.drop(\"tweet_created\",axis=1,inplace=True)"
   ]
  },
  {
   "cell_type": "code",
   "execution_count": 14,
   "id": "61829689",
   "metadata": {},
   "outputs": [],
   "source": [
    "data.drop(\"user_timezone\",axis=1,inplace=True)"
   ]
  },
  {
   "cell_type": "code",
   "execution_count": 15,
   "id": "32b09021",
   "metadata": {},
   "outputs": [],
   "source": [
    "data.drop(\"name\",axis=1,inplace=True)"
   ]
  },
  {
   "cell_type": "code",
   "execution_count": 16,
   "id": "22ad822f",
   "metadata": {},
   "outputs": [
    {
     "data": {
      "text/plain": [
       "['tweet_id',\n",
       " 'airline_sentiment',\n",
       " 'airline_sentiment_confidence',\n",
       " 'negativereason',\n",
       " 'negativereason_confidence',\n",
       " 'airline',\n",
       " 'text']"
      ]
     },
     "execution_count": 16,
     "metadata": {},
     "output_type": "execute_result"
    }
   ],
   "source": [
    "list(data.columns)"
   ]
  },
  {
   "cell_type": "code",
   "execution_count": 17,
   "id": "f94f200b",
   "metadata": {},
   "outputs": [
    {
     "data": {
      "text/plain": [
       "array(['neutral', 'positive', 'negative'], dtype=object)"
      ]
     },
     "execution_count": 17,
     "metadata": {},
     "output_type": "execute_result"
    }
   ],
   "source": [
    "sentiments = data['airline_sentiment'].unique()\n",
    "sentiments"
   ]
  },
  {
   "cell_type": "code",
   "execution_count": 18,
   "id": "cbe3154f",
   "metadata": {},
   "outputs": [],
   "source": [
    "neg=data[data[\"airline_sentiment\"]=='negative']['airline_sentiment_confidence'].sum()"
   ]
  },
  {
   "cell_type": "code",
   "execution_count": 19,
   "id": "3eb2b991",
   "metadata": {},
   "outputs": [],
   "source": [
    "pos=data[data[\"airline_sentiment\"]=='positive']['airline_sentiment_confidence'].sum()\n",
    "neu=data[data[\"airline_sentiment\"]=='neutral']['airline_sentiment_confidence'].sum()"
   ]
  },
  {
   "cell_type": "code",
   "execution_count": 20,
   "id": "108b8924",
   "metadata": {},
   "outputs": [
    {
     "data": {
      "text/html": [
       "<div>\n",
       "<style scoped>\n",
       "    .dataframe tbody tr th:only-of-type {\n",
       "        vertical-align: middle;\n",
       "    }\n",
       "\n",
       "    .dataframe tbody tr th {\n",
       "        vertical-align: top;\n",
       "    }\n",
       "\n",
       "    .dataframe thead th {\n",
       "        text-align: right;\n",
       "    }\n",
       "</style>\n",
       "<table border=\"1\" class=\"dataframe\">\n",
       "  <thead>\n",
       "    <tr style=\"text-align: right;\">\n",
       "      <th></th>\n",
       "      <th>airline sentiment</th>\n",
       "      <th>count</th>\n",
       "    </tr>\n",
       "  </thead>\n",
       "  <tbody>\n",
       "    <tr>\n",
       "      <th>0</th>\n",
       "      <td>neutral</td>\n",
       "      <td>2551.4171</td>\n",
       "    </tr>\n",
       "    <tr>\n",
       "      <th>1</th>\n",
       "      <td>positive</td>\n",
       "      <td>2060.6280</td>\n",
       "    </tr>\n",
       "    <tr>\n",
       "      <th>2</th>\n",
       "      <td>negative</td>\n",
       "      <td>8566.4269</td>\n",
       "    </tr>\n",
       "  </tbody>\n",
       "</table>\n",
       "</div>"
      ],
      "text/plain": [
       "  airline sentiment      count\n",
       "0           neutral  2551.4171\n",
       "1          positive  2060.6280\n",
       "2          negative  8566.4269"
      ]
     },
     "execution_count": 20,
     "metadata": {},
     "output_type": "execute_result"
    }
   ],
   "source": [
    "values=[neu,pos,neg]\n",
    "dr={\"airline sentiment\":sentiments,\"count\":values}\n",
    "sentimentcount=pd.DataFrame(dr)\n",
    "sentimentcount.head()"
   ]
  },
  {
   "cell_type": "markdown",
   "id": "fa31a8ac",
   "metadata": {},
   "source": [
    "# DATA VISUALIZATION\n",
    "\n",
    "\n",
    "Here we are finding  the count of the neutral,positive,negative for every airline and make a data frame out of it.  "
   ]
  },
  {
   "cell_type": "code",
   "execution_count": 21,
   "id": "fad96b1d",
   "metadata": {},
   "outputs": [
    {
     "data": {
      "image/png": "[encoded data removed]",
      "text/plain": [
       "<Figure size 1500x1000 with 1 Axes>"
      ]
     },
     "metadata": {},
     "output_type": "display_data"
    }
   ],
   "source": [
    "temp = sentimentcount.plot.bar(x='airline sentiment', y='count', rot=0, figsize=(15,10))\n",
    "\n",
    "# Add title and axis names\n",
    "plt.title('airline sentiment count bar chart')\n",
    "plt.xlabel('airline sentiment')\n",
    "plt.ylabel('count')\n",
    " \n",
    "# Show graphic\n",
    "plt.show()"
   ]
  },
  {
   "cell_type": "code",
   "execution_count": 22,
   "id": "9210ae2d",
   "metadata": {},
   "outputs": [],
   "source": [
    "listofairlines=data['airline'].unique()"
   ]
  },
  {
   "cell_type": "code",
   "execution_count": 23,
   "id": "c23f130a",
   "metadata": {},
   "outputs": [
    {
     "data": {
      "text/plain": [
       "array(['Virgin America', 'United', 'Southwest', 'Delta', 'US Airways',\n",
       "       'American'], dtype=object)"
      ]
     },
     "execution_count": 23,
     "metadata": {},
     "output_type": "execute_result"
    }
   ],
   "source": [
    "listofairlines"
   ]
  },
  {
   "cell_type": "code",
   "execution_count": 24,
   "id": "299e9736",
   "metadata": {},
   "outputs": [
    {
     "data": {
      "text/html": [
       "<div>\n",
       "<style scoped>\n",
       "    .dataframe tbody tr th:only-of-type {\n",
       "        vertical-align: middle;\n",
       "    }\n",
       "\n",
       "    .dataframe tbody tr th {\n",
       "        vertical-align: top;\n",
       "    }\n",
       "\n",
       "    .dataframe thead th {\n",
       "        text-align: right;\n",
       "    }\n",
       "</style>\n",
       "<table border=\"1\" class=\"dataframe\">\n",
       "  <thead>\n",
       "    <tr style=\"text-align: right;\">\n",
       "      <th></th>\n",
       "      <th>netural count</th>\n",
       "      <th>positive count</th>\n",
       "      <th>negative count</th>\n",
       "    </tr>\n",
       "  </thead>\n",
       "  <tbody>\n",
       "    <tr>\n",
       "      <th>Virgin America</th>\n",
       "      <td>143.3610</td>\n",
       "      <td>134.9727</td>\n",
       "      <td>163.2137</td>\n",
       "    </tr>\n",
       "    <tr>\n",
       "      <th>United</th>\n",
       "      <td>564.4000</td>\n",
       "      <td>421.1578</td>\n",
       "      <td>2457.5967</td>\n",
       "    </tr>\n",
       "    <tr>\n",
       "      <th>Southwest</th>\n",
       "      <td>548.5365</td>\n",
       "      <td>505.0800</td>\n",
       "      <td>1091.7521</td>\n",
       "    </tr>\n",
       "    <tr>\n",
       "      <th>Delta</th>\n",
       "      <td>599.5580</td>\n",
       "      <td>471.7084</td>\n",
       "      <td>861.6031</td>\n",
       "    </tr>\n",
       "    <tr>\n",
       "      <th>US Airways</th>\n",
       "      <td>313.1524</td>\n",
       "      <td>231.2555</td>\n",
       "      <td>2140.1501</td>\n",
       "    </tr>\n",
       "    <tr>\n",
       "      <th>American</th>\n",
       "      <td>382.4092</td>\n",
       "      <td>296.4536</td>\n",
       "      <td>1852.1112</td>\n",
       "    </tr>\n",
       "  </tbody>\n",
       "</table>\n",
       "</div>"
      ],
      "text/plain": [
       "                netural count  positive count  negative count\n",
       "Virgin America       143.3610        134.9727        163.2137\n",
       "United               564.4000        421.1578       2457.5967\n",
       "Southwest            548.5365        505.0800       1091.7521\n",
       "Delta                599.5580        471.7084        861.6031\n",
       "US Airways           313.1524        231.2555       2140.1501\n",
       "American             382.4092        296.4536       1852.1112"
      ]
     },
     "execution_count": 24,
     "metadata": {},
     "output_type": "execute_result"
    }
   ],
   "source": [
    "neutralc=[]\n",
    "positivec=[]\n",
    "negativec=[]\n",
    "totalc=[]\n",
    "\n",
    "for airline in listofairlines:\n",
    "    neuc=data.query(\"airline==@airline and airline_sentiment=='neutral'\")['airline_sentiment_confidence'].sum()\n",
    "    posc=data.query(\"airline==@airline and airline_sentiment=='positive'\")['airline_sentiment_confidence'].sum()\n",
    "    negc=data.query(\"airline==@airline and airline_sentiment=='negative'\")['airline_sentiment_confidence'].sum()\n",
    "    tt=neuc+posc+negc\n",
    "    neutralc.append(neuc)\n",
    "    positivec.append(posc)\n",
    "    negativec.append(negc)\n",
    "    totalc.append(tt)\n",
    "d2=pd.DataFrame(index=listofairlines)\n",
    "d2[\"netural count\"]=neutralc\n",
    "d2[\"positive count\"]=positivec\n",
    "d2[\"negative count\"]=negativec\n",
    "    \n",
    "d2   "
   ]
  },
  {
   "cell_type": "code",
   "execution_count": 25,
   "id": "8891b348",
   "metadata": {},
   "outputs": [
    {
     "data": {
      "image/png": "[encoded data removed]",
      "text/plain": [
       "<Figure size 1500x1000 with 1 Axes>"
      ]
     },
     "metadata": {},
     "output_type": "display_data"
    }
   ],
   "source": [
    "plt2=d2.plot.bar(rot=0,figsize=(15,10))"
   ]
  },
  {
   "cell_type": "code",
   "execution_count": 26,
   "id": "84205ad5",
   "metadata": {},
   "outputs": [
    {
     "data": {
      "text/plain": [
       "Text(0, 0.5, 'Count')"
      ]
     },
     "execution_count": 26,
     "metadata": {},
     "output_type": "execute_result"
    },
    {
     "data": {
      "image/png": "[encoded data removed]",
      "text/plain": [
       "<Figure size 1500x1000 with 3 Axes>"
      ]
     },
     "metadata": {},
     "output_type": "display_data"
    }
   ],
   "source": [
    "d2.plot.bar(rot=0,subplots=True,figsize=(15,10))\n",
    "plt.xlabel('Airlines')\n",
    "plt.ylabel('Count')"
   ]
  },
  {
   "cell_type": "code",
   "execution_count": 27,
   "id": "b20e21c2",
   "metadata": {},
   "outputs": [],
   "source": [
    "percentage_neg =[]\n",
    "for neg,tt in zip(negativec,totalc):\n",
    "    perc=neg/tt\n",
    "    percentage_neg.append(perc)"
   ]
  },
  {
   "cell_type": "code",
   "execution_count": 28,
   "id": "9a30ffd9",
   "metadata": {},
   "outputs": [
    {
     "data": {
      "text/html": [
       "<div>\n",
       "<style scoped>\n",
       "    .dataframe tbody tr th:only-of-type {\n",
       "        vertical-align: middle;\n",
       "    }\n",
       "\n",
       "    .dataframe tbody tr th {\n",
       "        vertical-align: top;\n",
       "    }\n",
       "\n",
       "    .dataframe thead th {\n",
       "        text-align: right;\n",
       "    }\n",
       "</style>\n",
       "<table border=\"1\" class=\"dataframe\">\n",
       "  <thead>\n",
       "    <tr style=\"text-align: right;\">\n",
       "      <th></th>\n",
       "      <th>negative feedack %</th>\n",
       "    </tr>\n",
       "  </thead>\n",
       "  <tbody>\n",
       "    <tr>\n",
       "      <th>Virgin America</th>\n",
       "      <td>0.369640</td>\n",
       "    </tr>\n",
       "    <tr>\n",
       "      <th>United</th>\n",
       "      <td>0.713763</td>\n",
       "    </tr>\n",
       "    <tr>\n",
       "      <th>Southwest</th>\n",
       "      <td>0.508888</td>\n",
       "    </tr>\n",
       "    <tr>\n",
       "      <th>Delta</th>\n",
       "      <td>0.445764</td>\n",
       "    </tr>\n",
       "    <tr>\n",
       "      <th>US Airways</th>\n",
       "      <td>0.797208</td>\n",
       "    </tr>\n",
       "    <tr>\n",
       "      <th>American</th>\n",
       "      <td>0.731778</td>\n",
       "    </tr>\n",
       "  </tbody>\n",
       "</table>\n",
       "</div>"
      ],
      "text/plain": [
       "                negative feedack %\n",
       "Virgin America            0.369640\n",
       "United                    0.713763\n",
       "Southwest                 0.508888\n",
       "Delta                     0.445764\n",
       "US Airways                0.797208\n",
       "American                  0.731778"
      ]
     },
     "execution_count": 28,
     "metadata": {},
     "output_type": "execute_result"
    }
   ],
   "source": [
    "d3 =pd.DataFrame(index=listofairlines)\n",
    "d3['negative feedack %']=percentage_neg\n",
    "d3"
   ]
  },
  {
   "cell_type": "code",
   "execution_count": 29,
   "id": "8bffbed3",
   "metadata": {},
   "outputs": [
    {
     "data": {
      "text/plain": [
       "Text(0, 0.5, 'Negative feed back percentage')"
      ]
     },
     "execution_count": 29,
     "metadata": {},
     "output_type": "execute_result"
    },
    {
     "data": {
      "image/png": "[encoded data removed]",
      "text/plain": [
       "<Figure size 1500x1000 with 1 Axes>"
      ]
     },
     "metadata": {},
     "output_type": "display_data"
    }
   ],
   "source": [
    "d3.plot.bar(rot=0,figsize=(15,10))\n",
    "plt.title(\"negative feedback percentage Bar chart by airlines\")\n",
    "plt.xlabel(\"Airlines\")\n",
    "plt.ylabel(\"Negative feed back percentage\")"
   ]
  },
  {
   "cell_type": "markdown",
   "id": "28ed3e60",
   "metadata": {},
   "source": [
    "# Data clearing and prosessing of text"
   ]
  },
  {
   "cell_type": "code",
   "execution_count": 30,
   "id": "afbec96b",
   "metadata": {},
   "outputs": [
    {
     "name": "stderr",
     "output_type": "stream",
     "text": [
      "[nltk_data] Downloading package stopwords to\n",
      "[nltk_data]     C:\\Users\\jayesh\\AppData\\Roaming\\nltk_data...\n",
      "[nltk_data]   Package stopwords is already up-to-date!\n"
     ]
    }
   ],
   "source": [
    "import nltk\n",
    "nltk.download('stopwords')\n",
    "from nltk.stem.porter import PorterStemmer\n",
    "import re\n",
    "from nltk.corpus import stopwords\n",
    "corpus =[]\n",
    "ps =PorterStemmer()\n",
    "for i in range (len(data)):\n",
    "    review =re.sub('[^a-zA-Z]','',data['text'][i])\n",
    "    review =review.lower()\n",
    "    review = review.split()\n",
    "    review =[ps.stem(word)for word in review if not word in set (stopwords.words('english'))]\n",
    "    review =' '.join(review)\n",
    "    corpus.append(review)"
   ]
  },
  {
   "cell_type": "markdown",
   "id": "11d31cac",
   "metadata": {},
   "source": [
    "we use x as the indpendent variable and y is dependent veriable"
   ]
  },
  {
   "cell_type": "code",
   "execution_count": 31,
   "id": "804f1f9b",
   "metadata": {},
   "outputs": [],
   "source": [
    "cv= TfidfVectorizer(ngram_range=(1,2),max_features=500000)"
   ]
  },
  {
   "cell_type": "code",
   "execution_count": 32,
   "id": "9de3bc84",
   "metadata": {},
   "outputs": [
    {
     "name": "stdout",
     "output_type": "stream",
     "text": [
      "No. of feature_words:  14342\n"
     ]
    }
   ],
   "source": [
    "x= cv.fit_transform(corpus)\n",
    "y=data['airline_sentiment']\n",
    "print('No. of feature_words: ', len(cv.get_feature_names_out()))"
   ]
  },
  {
   "cell_type": "markdown",
   "id": "c50eddf6",
   "metadata": {},
   "source": [
    "# Model training\n",
    " Here we use skitlearn library for traning the model by train test split function "
   ]
  },
  {
   "cell_type": "markdown",
   "id": "130162df",
   "metadata": {},
   "source": [
    "# By Logestic Regression"
   ]
  },
  {
   "cell_type": "code",
   "execution_count": 33,
   "id": "3183b299",
   "metadata": {},
   "outputs": [],
   "source": [
    "#train test split\n",
    "from sklearn.model_selection import train_test_split\n",
    "from sklearn.linear_model import LogisticRegression\n",
    "x_train,x_test,y_train,y_test = train_test_split(x,y,test_size = 0.30,random_state =0)"
   ]
  },
  {
   "cell_type": "code",
   "execution_count": 34,
   "id": "dec445e6",
   "metadata": {},
   "outputs": [
    {
     "data": {
      "text/html": [
       "<style>#sk-container-id-1 {color: black;background-color: white;}#sk-container-id-1 pre{padding: 0;}#sk-container-id-1 div.sk-toggleable {background-color: white;}#sk-container-id-1 label.sk-toggleable__label {cursor: pointer;display: block;width: 100%;margin-bottom: 0;padding: 0.3em;box-sizing: border-box;text-align: center;}#sk-container-id-1 label.sk-toggleable__label-arrow:before {content: \"▸\";float: left;margin-right: 0.25em;color: #696969;}#sk-container-id-1 label.sk-toggleable__label-arrow:hover:before {color: black;}#sk-container-id-1 div.sk-estimator:hover label.sk-toggleable__label-arrow:before {color: black;}#sk-container-id-1 div.sk-toggleable__content {max-height: 0;max-width: 0;overflow: hidden;text-align: left;background-color: #f0f8ff;}#sk-container-id-1 div.sk-toggleable__content pre {margin: 0.2em;color: black;border-radius: 0.25em;background-color: #f0f8ff;}#sk-container-id-1 input.sk-toggleable__control:checked~div.sk-toggleable__content {max-height: 200px;max-width: 100%;overflow: auto;}#sk-container-id-1 input.sk-toggleable__control:checked~label.sk-toggleable__label-arrow:before {content: \"▾\";}#sk-container-id-1 div.sk-estimator input.sk-toggleable__control:checked~label.sk-toggleable__label {background-color: #d4ebff;}#sk-container-id-1 div.sk-label input.sk-toggleable__control:checked~label.sk-toggleable__label {background-color: #d4ebff;}#sk-container-id-1 input.sk-hidden--visually {border: 0;clip: rect(1px 1px 1px 1px);clip: rect(1px, 1px, 1px, 1px);height: 1px;margin: -1px;overflow: hidden;padding: 0;position: absolute;width: 1px;}#sk-container-id-1 div.sk-estimator {font-family: monospace;background-color: #f0f8ff;border: 1px dotted black;border-radius: 0.25em;box-sizing: border-box;margin-bottom: 0.5em;}#sk-container-id-1 div.sk-estimator:hover {background-color: #d4ebff;}#sk-container-id-1 div.sk-parallel-item::after {content: \"\";width: 100%;border-bottom: 1px solid gray;flex-grow: 1;}#sk-container-id-1 div.sk-label:hover label.sk-toggleable__label {background-color: #d4ebff;}#sk-container-id-1 div.sk-serial::before {content: \"\";position: absolute;border-left: 1px solid gray;box-sizing: border-box;top: 0;bottom: 0;left: 50%;z-index: 0;}#sk-container-id-1 div.sk-serial {display: flex;flex-direction: column;align-items: center;background-color: white;padding-right: 0.2em;padding-left: 0.2em;position: relative;}#sk-container-id-1 div.sk-item {position: relative;z-index: 1;}#sk-container-id-1 div.sk-parallel {display: flex;align-items: stretch;justify-content: center;background-color: white;position: relative;}#sk-container-id-1 div.sk-item::before, #sk-container-id-1 div.sk-parallel-item::before {content: \"\";position: absolute;border-left: 1px solid gray;box-sizing: border-box;top: 0;bottom: 0;left: 50%;z-index: -1;}#sk-container-id-1 div.sk-parallel-item {display: flex;flex-direction: column;z-index: 1;position: relative;background-color: white;}#sk-container-id-1 div.sk-parallel-item:first-child::after {align-self: flex-end;width: 50%;}#sk-container-id-1 div.sk-parallel-item:last-child::after {align-self: flex-start;width: 50%;}#sk-container-id-1 div.sk-parallel-item:only-child::after {width: 0;}#sk-container-id-1 div.sk-dashed-wrapped {border: 1px dashed gray;margin: 0 0.4em 0.5em 0.4em;box-sizing: border-box;padding-bottom: 0.4em;background-color: white;}#sk-container-id-1 div.sk-label label {font-family: monospace;font-weight: bold;display: inline-block;line-height: 1.2em;}#sk-container-id-1 div.sk-label-container {text-align: center;}#sk-container-id-1 div.sk-container {/* jupyter's `normalize.less` sets `[hidden] { display: none; }` but bootstrap.min.css set `[hidden] { display: none !important; }` so we also need the `!important` here to be able to override the default hidden behavior on the sphinx rendered scikit-learn.org. See: https://github.com/scikit-learn/scikit-learn/issues/21755 */display: inline-block !important;position: relative;}#sk-container-id-1 div.sk-text-repr-fallback {display: none;}</style><div id=\"sk-container-id-1\" class=\"sk-top-container\"><div class=\"sk-text-repr-fallback\"><pre>LogisticRegression()</pre><b>In a Jupyter environment, please rerun this cell to show the HTML representation or trust the notebook. <br />On GitHub, the HTML representation is unable to render, please try loading this page with nbviewer.org.</b></div><div class=\"sk-container\" hidden><div class=\"sk-item\"><div class=\"sk-estimator sk-toggleable\"><input class=\"sk-toggleable__control sk-hidden--visually\" id=\"sk-estimator-id-1\" type=\"checkbox\" checked><label for=\"sk-estimator-id-1\" class=\"sk-toggleable__label sk-toggleable__label-arrow\">LogisticRegression</label><div class=\"sk-toggleable__content\"><pre>LogisticRegression()</pre></div></div></div></div></div>"
      ],
      "text/plain": [
       "LogisticRegression()"
      ]
     },
     "execution_count": 34,
     "metadata": {},
     "output_type": "execute_result"
    }
   ],
   "source": [
    "# performimg the logestic regression for training and testing  the model\n",
    "lr=LogisticRegression()\n",
    "lr.fit(x_train,y_train)"
   ]
  },
  {
   "cell_type": "code",
   "execution_count": 35,
   "id": "9746d20a",
   "metadata": {},
   "outputs": [],
   "source": [
    "y_pred=lr.predict(x_test)"
   ]
  },
  {
   "cell_type": "code",
   "execution_count": 36,
   "id": "0558b4c4",
   "metadata": {},
   "outputs": [
    {
     "name": "stdout",
     "output_type": "stream",
     "text": [
      "Confusion matrix : \n",
      " [[2788  913  660]\n",
      " [   0    2    0]\n",
      " [   0    4   25]]\n",
      "Accuracy score :  0.6409380692167578\n",
      "Classification Report : \n",
      "               precision    recall  f1-score   support\n",
      "\n",
      "    negative       1.00      0.64      0.78      4361\n",
      "     neutral       0.00      1.00      0.00         2\n",
      "    positive       0.04      0.86      0.07        29\n",
      "\n",
      "    accuracy                           0.64      4392\n",
      "   macro avg       0.35      0.83      0.28      4392\n",
      "weighted avg       0.99      0.64      0.77      4392\n",
      "\n",
      "-----------------------------------------------------------\n",
      "\n"
     ]
    }
   ],
   "source": [
    "# importing the matrix labaries\n",
    "from sklearn.metrics import accuracy_score,confusion_matrix, classification_report\n",
    "print(\"Confusion matrix : \\n\",confusion_matrix(y_pred,y_test))\n",
    "print(\"Accuracy score : \",accuracy_score(y_pred,y_test))\n",
    "print(\"Classification Report : \\n\",classification_report(y_pred,y_test))\n",
    "print(\"-----------------------------------------------------------\\n\")"
   ]
  },
  {
   "cell_type": "markdown",
   "id": "eaf5d8f9",
   "metadata": {},
   "source": []
  },
  {
   "cell_type": "markdown",
   "id": "57115140",
   "metadata": {},
   "source": []
  },
  {
   "cell_type": "markdown",
   "id": "59ee3e20",
   "metadata": {},
   "source": []
  },
  {
   "cell_type": "code",
   "execution_count": null,
   "id": "dff133c3",
   "metadata": {},
   "outputs": [],
   "source": []
  }
 ],
 "metadata": {
  "kernelspec": {
   "display_name": "Python 3 (ipykernel)",
   "language": "python",
   "name": "python3"
  },
  "language_info": {
   "codemirror_mode": {
    "name": "ipython",
    "version": 3
   },
   "file_extension": ".py",
   "mimetype": "text/x-python",
   "name": "python",
   "nbconvert_exporter": "python",
   "pygments_lexer": "ipython3",
   "version": "3.11.3"
  }
 },
 "nbformat": 4,
 "nbformat_minor": 5
}
